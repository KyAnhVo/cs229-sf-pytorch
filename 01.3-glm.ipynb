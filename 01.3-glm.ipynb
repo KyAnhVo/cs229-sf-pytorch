{
 "cells": [
  {
   "cell_type": "code",
   "execution_count": 10,
   "metadata": {},
   "outputs": [],
   "source": [
    "import matplotlib.pyplot as plt\n",
    "import torch"
   ]
  },
  {
   "cell_type": "code",
   "execution_count": 11,
   "metadata": {},
   "outputs": [
    {
     "data": {
      "text/plain": [
       "(tensor([[0., 0., 0.,  ..., 0., 0., 0.],\n",
       "         [0., 0., 0.,  ..., 0., 0., 0.],\n",
       "         [0., 0., 0.,  ..., 0., 0., 0.],\n",
       "         ...,\n",
       "         [0., 0., 0.,  ..., 0., 0., 0.],\n",
       "         [0., 0., 0.,  ..., 0., 0., 0.],\n",
       "         [0., 0., 0.,  ..., 0., 0., 0.]]),\n",
       " torch.Size([500, 43]))"
      ]
     },
     "execution_count": 11,
     "metadata": {},
     "output_type": "execute_result"
    }
   ],
   "source": [
    "k = 43      # classification amount\n",
    "n = 50     # input feature count\n",
    "m = 500    # training set\n",
    "\n",
    "device = torch.device('cuda' if torch.cuda.is_available() else 'cpu')\n",
    "\n",
    "x = torch.rand(size=(m, n), dtype=torch.float32, device=device)\n",
    "thetaTrue = torch.rand(size=(n, k), dtype = torch.float32, device=device)\n",
    "\n",
    "eta = x @ thetaTrue\n",
    "\n",
    "# probability, essentially true hypothesis\n",
    "probs = torch.softmax(eta, dim=1, dtype=torch.float32)\n",
    "yChoice = torch.multinomial(probs, num_samples=1)\n",
    "y = torch.nn.functional.one_hot(yChoice.squeeze(1), num_classes=k).float()\n",
    "\n",
    "theta = torch.zeros(size=(n, k), dtype=torch.float32, device=device)\n",
    "\n",
    "# x, y, theta initialized\n",
    "y, y.shape"
   ]
  },
  {
   "cell_type": "code",
   "execution_count": 12,
   "metadata": {},
   "outputs": [],
   "source": [
    "def softmax(matrix: torch.Tensor) -> torch.Tensor:\n",
    "    return torch.softmax(matrix, dim=1, dtype=torch.float32)\n",
    "\n",
    "def linear(matrix: torch.Tensor) -> torch.Tensor:\n",
    "    return matrix\n",
    "\n",
    "def logistic(matrix: torch.Tensor) -> torch.Tensor:\n",
    "    return torch.sigmoid(matrix)"
   ]
  },
  {
   "cell_type": "code",
   "execution_count": 13,
   "metadata": {},
   "outputs": [],
   "source": [
    "def glmUpdate(x: torch.Tensor, y: torch.Tensor, theta: torch.Tensor, alpha: float, link) -> torch.Tensor:\n",
    "    m = y.shape[0]\n",
    "    eta = x @ theta\n",
    "    hypothesis = link(eta)\n",
    "    error = y - hypothesis\n",
    "    grad = x.T @ error\n",
    "    return theta + alpha / m * grad"
   ]
  },
  {
   "cell_type": "code",
   "execution_count": 14,
   "metadata": {},
   "outputs": [
    {
     "name": "stdout",
     "output_type": "stream",
     "text": [
      "Epoch    0 | Loss: 3.4197\n",
      "Epoch  500 | Loss: 1.9154\n",
      "Epoch 1000 | Loss: 1.6373\n",
      "Epoch 1500 | Loss: 1.5097\n",
      "Epoch 2000 | Loss: 1.4335\n",
      "Epoch 2500 | Loss: 1.3815\n",
      "Epoch 3000 | Loss: 1.3431\n",
      "Epoch 3500 | Loss: 1.3131\n",
      "Epoch 4000 | Loss: 1.2889\n",
      "Epoch 4500 | Loss: 1.2687\n",
      "Epoch 5000 | Loss: 1.2516\n",
      "Epoch 5500 | Loss: 1.2367\n",
      "Epoch 6000 | Loss: 1.2237\n",
      "Epoch 6500 | Loss: 1.2122\n",
      "Epoch 7000 | Loss: 1.2018\n",
      "Epoch 7500 | Loss: 1.1925\n",
      "Epoch 8000 | Loss: 1.1840\n",
      "Epoch 8500 | Loss: 1.1762\n",
      "Epoch 9000 | Loss: 1.1691\n",
      "Epoch 9500 | Loss: 1.1624\n",
      "Epoch 10000 | Loss: 1.1563\n",
      "Epoch 10500 | Loss: 1.1506\n",
      "Epoch 11000 | Loss: 1.1452\n",
      "Epoch 11500 | Loss: 1.1402\n",
      "Epoch 12000 | Loss: 1.1354\n",
      "Epoch 12500 | Loss: 1.1309\n",
      "Epoch 13000 | Loss: 1.1267\n",
      "Epoch 13500 | Loss: 1.1227\n",
      "Epoch 14000 | Loss: 1.1189\n",
      "Epoch 14500 | Loss: 1.1152\n",
      "Epoch 15000 | Loss: 1.1118\n",
      "Epoch 15500 | Loss: 1.1085\n",
      "Epoch 16000 | Loss: 1.1053\n",
      "Epoch 16500 | Loss: 1.1022\n",
      "Epoch 17000 | Loss: 1.0993\n",
      "Epoch 17500 | Loss: 1.0965\n",
      "Epoch 18000 | Loss: 1.0938\n",
      "Epoch 18500 | Loss: 1.0912\n",
      "Epoch 19000 | Loss: 1.0887\n",
      "Epoch 19500 | Loss: 1.0863\n",
      "Epoch 20000 | Loss: 1.0840\n",
      "Epoch 20500 | Loss: 1.0817\n",
      "Epoch 21000 | Loss: 1.0795\n",
      "Epoch 21500 | Loss: 1.0774\n",
      "Epoch 22000 | Loss: 1.0753\n",
      "Epoch 22500 | Loss: 1.0733\n",
      "Epoch 23000 | Loss: 1.0714\n",
      "Epoch 23500 | Loss: 1.0695\n",
      "Epoch 24000 | Loss: 1.0677\n",
      "Epoch 24500 | Loss: 1.0659\n",
      "Epoch 25000 | Loss: 1.0641\n",
      "Epoch 25500 | Loss: 1.0625\n",
      "Epoch 26000 | Loss: 1.0608\n",
      "Epoch 26500 | Loss: 1.0592\n",
      "Epoch 27000 | Loss: 1.0576\n",
      "Epoch 27500 | Loss: 1.0561\n",
      "Epoch 28000 | Loss: 1.0546\n",
      "Epoch 28500 | Loss: 1.0531\n",
      "Epoch 29000 | Loss: 1.0517\n",
      "Epoch 29500 | Loss: 1.0503\n",
      "Epoch 30000 | Loss: 1.0489\n",
      "Epoch 30500 | Loss: 1.0475\n",
      "Epoch 31000 | Loss: 1.0462\n",
      "Epoch 31500 | Loss: 1.0449\n",
      "Epoch 32000 | Loss: 1.0437\n",
      "Epoch 32500 | Loss: 1.0424\n",
      "Epoch 33000 | Loss: 1.0412\n",
      "Epoch 33500 | Loss: 1.0400\n",
      "Epoch 34000 | Loss: 1.0388\n",
      "Epoch 34500 | Loss: 1.0377\n",
      "Epoch 35000 | Loss: 1.0365\n",
      "Epoch 35500 | Loss: 1.0354\n",
      "Epoch 36000 | Loss: 1.0343\n",
      "Epoch 36500 | Loss: 1.0332\n",
      "Epoch 37000 | Loss: 1.0322\n",
      "Epoch 37500 | Loss: 1.0311\n",
      "Epoch 38000 | Loss: 1.0301\n",
      "Epoch 38500 | Loss: 1.0291\n",
      "Epoch 39000 | Loss: 1.0281\n",
      "Epoch 39500 | Loss: 1.0271\n",
      "Epoch 40000 | Loss: 1.0262\n",
      "Epoch 40500 | Loss: 1.0252\n",
      "Epoch 41000 | Loss: 1.0243\n",
      "Epoch 41500 | Loss: 1.0234\n",
      "Epoch 42000 | Loss: 1.0225\n",
      "Epoch 42500 | Loss: 1.0216\n",
      "Epoch 43000 | Loss: 1.0207\n",
      "Epoch 43500 | Loss: 1.0198\n",
      "Epoch 44000 | Loss: 1.0190\n",
      "Epoch 44500 | Loss: 1.0181\n",
      "Epoch 45000 | Loss: 1.0173\n",
      "Epoch 45500 | Loss: 1.0164\n",
      "Epoch 46000 | Loss: 1.0156\n",
      "Epoch 46500 | Loss: 1.0148\n",
      "Epoch 47000 | Loss: 1.0140\n",
      "Epoch 47500 | Loss: 1.0132\n",
      "Epoch 48000 | Loss: 1.0125\n",
      "Epoch 48500 | Loss: 1.0117\n",
      "Epoch 49000 | Loss: 1.0109\n",
      "Epoch 49500 | Loss: 1.0102\n"
     ]
    },
    {
     "data": {
      "image/png": "[encoded data removed]",
      "text/plain": [
       "<Figure size 640x480 with 1 Axes>"
      ]
     },
     "metadata": {},
     "output_type": "display_data"
    }
   ],
   "source": [
    "# Settings\n",
    "alpha = 1\n",
    "iterations = 50000\n",
    "loss_history = []\n",
    "\n",
    "# Cross-entropy loss for checking progress\n",
    "def cross_entropy(y_true, y_pred):\n",
    "    return -(y_true * torch.log(y_pred + 1e-9)).sum(dim=1).mean()\n",
    "\n",
    "# Training loop\n",
    "for i in range(iterations):\n",
    "    theta = glmUpdate(x, y, theta, alpha, softmax)\n",
    "    preds = softmax(x @ theta)\n",
    "    loss = cross_entropy(y, preds)\n",
    "    loss_history.append(loss.item())\n",
    "\n",
    "    if i % 500 == 0:\n",
    "        print(f\"Epoch {i:4d} | Loss: {loss.item():.4f}\")\n",
    "\n",
    "# Plot loss\n",
    "plt.plot(loss_history)\n",
    "plt.title(\"Training Loss Curve\")\n",
    "plt.xlabel(\"Iteration\")\n",
    "plt.ylabel(\"Cross-Entropy Loss\")\n",
    "plt.grid(True)\n",
    "plt.show()"
   ]
  },
  {
   "cell_type": "code",
   "execution_count": null,
   "metadata": {},
   "outputs": [],
   "source": []
  }
 ],
 "metadata": {
  "kernelspec": {
   "display_name": "ml_cs229",
   "language": "python",
   "name": "python3"
  },
  "language_info": {
   "codemirror_mode": {
    "name": "ipython",
    "version": 3
   },
   "file_extension": ".py",
   "mimetype": "text/x-python",
   "name": "python",
   "nbconvert_exporter": "python",
   "pygments_lexer": "ipython3",
   "version": "3.12.3"
  }
 },
 "nbformat": 4,
 "nbformat_minor": 2
}
