{
 "cells": [
  {
   "cell_type": "code",
   "execution_count": 5,
   "metadata": {},
   "outputs": [],
   "source": [
    "import torch\n",
    "import matplotlib.pyplot as plt\n",
    "\n",
    "device = torch.device('cuda' if torch.cuda.is_available() else 'cpu')\n",
    "k = 5\n",
    "n = 10\n",
    "m = 20"
   ]
  },
  {
   "cell_type": "code",
   "execution_count": null,
   "metadata": {},
   "outputs": [
    {
     "ename": "RuntimeError",
     "evalue": "expected m1 and m2 to have the same dtype, but got: long int != float",
     "output_type": "error",
     "traceback": [
      "\u001b[31m---------------------------------------------------------------------------\u001b[39m",
      "\u001b[31mRuntimeError\u001b[39m                              Traceback (most recent call last)",
      "\u001b[36mCell\u001b[39m\u001b[36m \u001b[39m\u001b[32mIn[15]\u001b[39m\u001b[32m, line 14\u001b[39m\n\u001b[32m     11\u001b[39m logNotPhiTrue = torch.log(\u001b[32m1\u001b[39m - phiTrue)\n\u001b[32m     12\u001b[39m logPTrue = torch.log(pTrue)\n\u001b[32m---> \u001b[39m\u001b[32m14\u001b[39m logLikelihood = \u001b[43mx\u001b[49m\u001b[43m \u001b[49m\u001b[43m@\u001b[49m\u001b[43m \u001b[49m\u001b[43mlogPhiTrue\u001b[49m + (\u001b[32m1\u001b[39m - x) @ logNotPhiTrue    \u001b[38;5;66;03m# (m, k)\u001b[39;00m\n\u001b[32m     15\u001b[39m logJoint = logLikelihood + logPTrue                         \u001b[38;5;66;03m# (m, k)\u001b[39;00m\n\u001b[32m     17\u001b[39m posterior = torch.softmax(logJoint, dim=\u001b[32m1\u001b[39m)                  \u001b[38;5;66;03m# (m, k)\u001b[39;00m\n",
      "\u001b[31mRuntimeError\u001b[39m: expected m1 and m2 to have the same dtype, but got: long int != float"
     ]
    }
   ],
   "source": [
    "def prediction(x: torch.Tensor, phi: torch.Tensor, p: torch.Tensor):\n",
    "    \"\"\" retun an y-vector prediction to given x, phi and p.\n",
    "\n",
    "    Given x is (m, n), phi is (n, k) and p is (k, 1), we perform\n",
    "    NB prediction on the matrices to get an y-vector prediction.\n",
    "    For k classes, each element in y_i in y is in [0,k)\n",
    "\n",
    "    \n",
    "    \"\"\"\n",
    "    logPhi = phi.log()      # n, k\n",
    "    logP = p.log().T        # 1, k\n",
    "\n",
    "    scores = x @ logPhi + logP\n",
    "    return scores.argmax(dim=1)\n",
    "\n",
    "def generateData(k: int, n: int, m: int):\n",
    "    # generate real P (probability of y matrix)\n",
    "    P = torch.randint(low=1, high=6, size=(k,), device=device)\n",
    "    PSum = P.sum()\n",
    "    P = P / PSum\n",
    "    logP = P.log()\n",
    "\n",
    "\n",
    "    # generate real phi\n",
    "    phi = torch.randint(low=1, high=5, size=(n, k), device=device)\n",
    "    phiSum = phi.sum(dim=0, keepdim=True).expand(size=phi.size())\n",
    "    phi = phi / phiSum\n",
    "    logPhi = phi.log()\n",
    "\n",
    "\n",
    "    # generate real phi\n",
    "    x = torch.randint(low=0, high=2, size=(m, n), device=device)\n",
    "\n"
   ]
  },
  {
   "cell_type": "code",
   "execution_count": null,
   "metadata": {},
   "outputs": [
    {
     "data": {
      "text/plain": [
       "tensor([0.0667, 0.3333, 0.1333, 0.2667, 0.2000])"
      ]
     },
     "execution_count": 4,
     "metadata": {},
     "output_type": "execute_result"
    }
   ],
   "source": [
    "# generate real P (probability of y matrix)\n",
    "P = torch.randint(low=1, high=6, size=(k,), device=device)\n",
    "PSum = P.sum()\n",
    "P = P / PSum"
   ]
  },
  {
   "cell_type": "code",
   "execution_count": null,
   "metadata": {},
   "outputs": [],
   "source": []
  }
 ],
 "metadata": {
  "kernelspec": {
   "display_name": "ml_cs229",
   "language": "python",
   "name": "python3"
  },
  "language_info": {
   "codemirror_mode": {
    "name": "ipython",
    "version": 3
   },
   "file_extension": ".py",
   "mimetype": "text/x-python",
   "name": "python",
   "nbconvert_exporter": "python",
   "pygments_lexer": "ipython3",
   "version": "3.12.3"
  }
 },
 "nbformat": 4,
 "nbformat_minor": 2
}
