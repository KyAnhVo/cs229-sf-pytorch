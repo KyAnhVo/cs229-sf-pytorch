{
 "cells": [
  {
   "cell_type": "markdown",
   "metadata": {},
   "source": [
    "# 02.1 Gaussian Discriminant Analysis (K-class variation)"
   ]
  },
  {
   "cell_type": "markdown",
   "metadata": {},
   "source": [
    "### Boilerplate"
   ]
  },
  {
   "cell_type": "code",
   "execution_count": 1,
   "metadata": {},
   "outputs": [],
   "source": [
    "import torch\n",
    "import matplotlib.pyplot as plt\n",
    "\n",
    "device = torch.device('cuda' if torch.cuda.is_available() else 'cpu')"
   ]
  },
  {
   "cell_type": "markdown",
   "metadata": {},
   "source": [
    "### Generate data"
   ]
  },
  {
   "cell_type": "code",
   "execution_count": 2,
   "metadata": {},
   "outputs": [],
   "source": [
    "m = 100\n",
    "n = 40\n",
    "k = 20\n",
    "\n",
    "mu = torch.randn((k, n), device=device)           # means for each class\n",
    "L = torch.eye(n, device=device) * 0.1             # Cholesky of shared cov\n",
    "y = torch.randint(0, k, (m,), device=device)      # true class labels\n",
    "x = mu[y] + torch.randn((m, n), device=device) @ L.T  # draw from N(mu_y, Sigma)\n",
    "y = y.unsqueeze(1)"
   ]
  },
  {
   "cell_type": "markdown",
   "metadata": {},
   "source": [
    "### \"train\" i.e. calculate params"
   ]
  },
  {
   "cell_type": "code",
   "execution_count": 3,
   "metadata": {},
   "outputs": [
    {
     "name": "stdout",
     "output_type": "stream",
     "text": [
      "y_onehot.shape = (m, k) is True\n",
      "p.shape = (k, 1) is True\n",
      "mean.shape = (k, n) is True\n"
     ]
    }
   ],
   "source": [
    "# --- calculate ---\n",
    "\n",
    "# probability and y_onehot matrices\n",
    "y_onehot = torch.nn.functional.one_hot(y.squeeze(1), num_classes=k).float()\n",
    "p = torch.mean(y_onehot, dim=0).unsqueeze(1)\n",
    "p = p.clamp(min=1e-8)\n",
    "print(f'y_onehot.shape = (m, k) is {y_onehot.shape == (m, k)}')\n",
    "print(f'p.shape = (k, 1) is {p.shape == (k, 1)}')\n",
    "logp = torch.log(p)\n",
    "\n",
    "# mean matrix\n",
    "numerator = y_onehot.T @ x\n",
    "denominator = m * p\n",
    "mean = numerator / denominator\n",
    "print(f'mean.shape = (k, n) is {mean.shape == (k, n)}')\n",
    "\n",
    "# calculating sigma\n",
    "mean_y = mean[y.squeeze()]\n",
    "diff = x - mean_y\n",
    "diff_unsqueezed = diff.unsqueeze(2)\n",
    "outer = diff_unsqueezed @ diff_unsqueezed.transpose(1, 2)\n",
    "sigma = outer.mean(dim=0)\n",
    "det = torch.det(sigma)"
   ]
  },
  {
   "cell_type": "markdown",
   "metadata": {},
   "source": [
    "### Predict function"
   ]
  },
  {
   "cell_type": "code",
   "execution_count": 4,
   "metadata": {},
   "outputs": [],
   "source": [
    "def predict(x:torch.Tensor):\n",
    "    assert(x.shape == (1, n))\n",
    "    diff = x.expand(mean.shape) - mean\n",
    "    temp = diff @ sigma.inverse() # (k, n) * (n, n) = (k, n)\n",
    "    scores = (diff * temp).sum(dim=1) # (k, 1)\n",
    "    scores = -0.5 * scores + logp.squeeze()\n",
    "    \n",
    "    return scores.argmax()"
   ]
  },
  {
   "cell_type": "markdown",
   "metadata": {},
   "source": [
    "### Test"
   ]
  },
  {
   "cell_type": "code",
   "execution_count": 5,
   "metadata": {},
   "outputs": [
    {
     "name": "stdout",
     "output_type": "stream",
     "text": [
      "Accuracy on 50 test samples: 100.00% (50/50)\n",
      "sigma condition number: 2.77e+01\n",
      "Class counts: [7, 4, 7, 6, 3, 4, 7, 6, 4, 2, 5, 4, 6, 5, 6, 4, 5, 3, 6, 6]\n"
     ]
    }
   ],
   "source": [
    "testAmount = 50\n",
    "\n",
    "# Pick 30 test indices (e.g., first testAmount, or random)\n",
    "test_indices = torch.randperm(m, device=device)[:testAmount]\n",
    "x_test = x[test_indices]        # shape: (testAmount, n)\n",
    "y_test = y[test_indices].squeeze()  # shape: (testAmount,)\n",
    "\n",
    "# Predict each sample (loop-based, since predict expects shape (1, n))\n",
    "y_pred = torch.tensor([\n",
    "    predict(xi.unsqueeze(0)).item() for xi in x_test\n",
    "], device=device)\n",
    "\n",
    "# Compute accuracy\n",
    "correct = (y_pred == y_test).sum().item()\n",
    "total = len(y_test)\n",
    "accuracy = correct / total\n",
    "\n",
    "print(f\"Accuracy on {testAmount} test samples: {accuracy:.2%} ({correct}/{total})\")\n",
    "print(f\"sigma condition number: {torch.linalg.cond(sigma).item():.2e}\")\n",
    "print(\"Class counts:\", y.squeeze().bincount(minlength=k).tolist())"
   ]
  }
 ],
 "metadata": {
  "kernelspec": {
   "display_name": "ml_cs229",
   "language": "python",
   "name": "python3"
  },
  "language_info": {
   "codemirror_mode": {
    "name": "ipython",
    "version": 3
   },
   "file_extension": ".py",
   "mimetype": "text/x-python",
   "name": "python",
   "nbconvert_exporter": "python",
   "pygments_lexer": "ipython3",
   "version": "3.12.3"
  }
 },
 "nbformat": 4,
 "nbformat_minor": 2
}
